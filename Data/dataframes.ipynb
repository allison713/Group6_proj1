{
 "cells": [
  {
   "cell_type": "code",
   "execution_count": 61,
   "metadata": {},
   "outputs": [],
   "source": [
    "# Dependencies\n",
    "import pandas as pd"
   ]
  },
  {
   "cell_type": "code",
   "execution_count": 62,
   "metadata": {},
   "outputs": [],
   "source": [
    "# Store filepaths as variables\n",
    "ceo_csv = \"..\\Data\\ceo_data_reduced names.csv\"\n",
    "layoff_csv = \"..\\Data\\layoff.csv\"\n",
    "revenue_csv = \"..\\Data\\Forbes_2000_top_company.csv\""
   ]
  },
  {
   "cell_type": "code",
   "execution_count": 63,
   "metadata": {},
   "outputs": [],
   "source": [
    "# Read our files into dataframes.\n",
    "ceo_df = pd.read_csv(ceo_csv)\n",
    "layoff_df = pd.read_csv(layoff_csv)\n",
    "revenue_df = pd.read_csv(revenue_csv)"
   ]
  },
  {
   "cell_type": "code",
   "execution_count": 65,
   "metadata": {},
   "outputs": [],
   "source": [
    "# Merge csv dataframes on Company Name\n",
    "#merged_df = pd.merge(ceo_df,layoff_df, on =[\"company_name\"],how=\"inner\")\n",
    "merged_df = pd.merge(revenue_df, ceo_df,on=[\"company_name\"],how=\"inner\")\n",
    "#merged_df = pd.merge(merged_df1, layoff_df,on=[\"company_name\"],how=\"inner\")\n",
    "merged_df = merged_df[[\"2022 Ranking\", \"company_name\", \"CEO\", \"salary\", \"median_worker_pay\", \"Total Employees\", \"Year Founded\", \"Revenue (Billions)\", \"Profits (Billions)\", \"Assets (Billions)\", \"Market Value (Billions)\", \"Industry\", \"industry\"]]\n",
    "merged_df\n",
    "merged_df.to_csv(\"..\\Data\\merged_df.csv\")"
   ]
  },
  {
   "cell_type": "code",
   "execution_count": 69,
   "metadata": {},
   "outputs": [
    {
     "data": {
      "text/plain": [
       "2022 Ranking               0\n",
       "company_name               0\n",
       "CEO                        0\n",
       "salary                     0\n",
       "median_worker_pay          0\n",
       "Total Employees            0\n",
       "Year Founded               0\n",
       "Revenue (Billions)         0\n",
       "Profits (Billions)         0\n",
       "Assets (Billions)          0\n",
       "Market Value (Billions)    0\n",
       "Industry                   0\n",
       "industry                   0\n",
       "dtype: int64"
      ]
     },
     "execution_count": 69,
     "metadata": {},
     "output_type": "execute_result"
    }
   ],
   "source": [
    "# check for nulls\n",
    "merged_df.isnull().sum()\n"
   ]
  },
  {
   "cell_type": "code",
   "execution_count": 89,
   "metadata": {},
   "outputs": [
    {
     "ename": "TypeError",
     "evalue": "list indices must be integers or slices, not str",
     "output_type": "error",
     "traceback": [
      "\u001b[1;31m---------------------------------------------------------------------------\u001b[0m",
      "\u001b[1;31mTypeError\u001b[0m                                 Traceback (most recent call last)",
      "\u001b[1;32mc:\\Users\\kfbie\\OneDrive\\Desktop\\Group6_proj1\\Data\\dataframes.ipynb Cell 6\u001b[0m in \u001b[0;36m<cell line: 2>\u001b[1;34m()\u001b[0m\n\u001b[0;32m      <a href='vscode-notebook-cell:/c%3A/Users/kfbie/OneDrive/Desktop/Group6_proj1/Data/dataframes.ipynb#W5sZmlsZQ%3D%3D?line=0'>1</a>\u001b[0m \u001b[39m# calculate the ratio column again CEO/median :\u001b[39;00m\n\u001b[1;32m----> <a href='vscode-notebook-cell:/c%3A/Users/kfbie/OneDrive/Desktop/Group6_proj1/Data/dataframes.ipynb#W5sZmlsZQ%3D%3D?line=1'>2</a>\u001b[0m intsalary \u001b[39m=\u001b[39m merged_df[\u001b[39m\"\u001b[39;49m\u001b[39msalary\u001b[39;49m\u001b[39m\"\u001b[39;49m]\u001b[39m.\u001b[39mstr\u001b[39m.\u001b[39mreplace(\u001b[39m'\u001b[39m\u001b[39m,\u001b[39m\u001b[39m'\u001b[39m, \u001b[39m'\u001b[39m\u001b[39m'\u001b[39m)\u001b[39m.\u001b[39mstr\u001b[39m.\u001b[39mreplace(\u001b[39m\"\u001b[39m\u001b[39m$\u001b[39m\u001b[39m\"\u001b[39m, \u001b[39m\"\u001b[39m\u001b[39m\"\u001b[39m)\u001b[39m.\u001b[39mastype(\u001b[39mint\u001b[39m)\n\u001b[0;32m      <a href='vscode-notebook-cell:/c%3A/Users/kfbie/OneDrive/Desktop/Group6_proj1/Data/dataframes.ipynb#W5sZmlsZQ%3D%3D?line=2'>3</a>\u001b[0m intmedianpay \u001b[39m=\u001b[39m merged_df[\u001b[39m\"\u001b[39m\u001b[39mmedian_worker_pay\u001b[39m\u001b[39m\"\u001b[39m]\u001b[39m.\u001b[39mstr\u001b[39m.\u001b[39mreplace(\u001b[39m'\u001b[39m\u001b[39m,\u001b[39m\u001b[39m'\u001b[39m, \u001b[39m'\u001b[39m\u001b[39m'\u001b[39m)\u001b[39m.\u001b[39mstr\u001b[39m.\u001b[39mreplace(\u001b[39m\"\u001b[39m\u001b[39m$\u001b[39m\u001b[39m\"\u001b[39m, \u001b[39m\"\u001b[39m\u001b[39m\"\u001b[39m)\u001b[39m.\u001b[39mastype(\u001b[39mint\u001b[39m)\n\u001b[0;32m      <a href='vscode-notebook-cell:/c%3A/Users/kfbie/OneDrive/Desktop/Group6_proj1/Data/dataframes.ipynb#W5sZmlsZQ%3D%3D?line=3'>4</a>\u001b[0m ratio \u001b[39m=\u001b[39m intsalary\u001b[39m/\u001b[39mintmedianpay\n",
      "\u001b[1;31mTypeError\u001b[0m: list indices must be integers or slices, not str"
     ]
    }
   ],
   "source": [
    "# calculate the ratio column again CEO/median :\n",
    "#converting salary and median pay to integers\n",
    "intsalary = merged_df[\"salary\"].str.replace(',', '').str.replace(\"$\", \"\").astype(int)\n",
    "intmedianpay = merged_df[\"median_worker_pay\"].str.replace(',', '').str.replace(\"$\", \"\").astype(int)\n",
    "#calculating and printing ratio\n",
    "ratio = intsalary/intmedianpay\n",
    "print(ratio)\n",
    "\n",
    "#adding ratio column\n",
    "#merged_df[\"CEO Salary to Worker Pay Ratio\"] = ratio\n",
    "\n",
    "#reordering df columns\n",
    "#merged_df = [[\"2022 Ranking\", \"company_name\", \"CEO\", \"salary\", \"median_worker_pay\", \"CEO Salary to Worker Pay Ratio\", \"Total Employees\", \"Year Founded\", \"Revenue (Billions)\", \"Profits (Billions)\", \"Assets (Billions)\", \"Market Value (Billions)\", \"Industry\", \"industry\"]]\n",
    "\n",
    "#renaming df columns\n",
    "#merged_df.rename(columns=({\"company_name\": \"Company Name\", \"CEO\": \"CEO Name\", \"salary\": \"CEO Salary\": \"median_worker_pay\": \"Median Worker Pay\", \"industry\": \"Industry 2\"}))\n",
    "\n",
    "\n",
    "#creating output file for easy viewing\n",
    "#merged_df.to_csv(\"..\\Data\\merged_df.csv\")"
   ]
  },
  {
   "cell_type": "code",
   "execution_count": null,
   "metadata": {},
   "outputs": [],
   "source": [
    "# Remove %20 in the industry column\n",
    "merged_df[\"industry\"].str.replace('%20', ' ')"
   ]
  }
 ],
 "metadata": {
  "kernelspec": {
   "display_name": "base",
   "language": "python",
   "name": "python3"
  },
  "language_info": {
   "codemirror_mode": {
    "name": "ipython",
    "version": 3
   },
   "file_extension": ".py",
   "mimetype": "text/x-python",
   "name": "python",
   "nbconvert_exporter": "python",
   "pygments_lexer": "ipython3",
   "version": "3.9.12"
  },
  "orig_nbformat": 4,
  "vscode": {
   "interpreter": {
    "hash": "76cfbac97d6206fd6c610316c3a1d1f017f6bf5147ac1f3f58afecafe14e2ac1"
   }
  }
 },
 "nbformat": 4,
 "nbformat_minor": 2
}
