{
 "cells": [
  {
   "cell_type": "code",
   "execution_count": 1,
   "metadata": {},
   "outputs": [],
   "source": [
    "# Dependencies\n",
    "import pandas as pd"
   ]
  },
  {
   "cell_type": "code",
   "execution_count": 2,
   "metadata": {},
   "outputs": [],
   "source": [
    "# Store filepaths as variables\n",
    "ceo_csv = \"ceo_data_pay_merged_r3000.csv\"\n",
    "layoff_csv = \"layoff.csv\""
   ]
  },
  {
   "cell_type": "code",
   "execution_count": 5,
   "metadata": {},
   "outputs": [],
   "source": [
    "# Read our files into dataframes.\n",
    "ceo_df = pd.read_csv(ceo_csv)\n",
    "layoff_df = pd.read_csv(layoff_csv)"
   ]
  }
 ],
 "metadata": {
  "kernelspec": {
   "display_name": "PythonData",
   "language": "python",
   "name": "python3"
  },
  "language_info": {
   "codemirror_mode": {
    "name": "ipython",
    "version": 3
   },
   "file_extension": ".py",
   "mimetype": "text/x-python",
   "name": "python",
   "nbconvert_exporter": "python",
   "pygments_lexer": "ipython3",
   "version": "3.7.7"
  },
  "orig_nbformat": 4,
  "vscode": {
   "interpreter": {
    "hash": "ead7f498905789b23feb7f6c7e377b22056b3a0229cf58c9eab4c84e20b8a3fe"
   }
  }
 },
 "nbformat": 4,
 "nbformat_minor": 2
}
