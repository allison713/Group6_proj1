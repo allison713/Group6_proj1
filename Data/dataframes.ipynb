{
 "cells": [
  {
   "cell_type": "code",
   "execution_count": 14,
   "metadata": {},
   "outputs": [],
   "source": [
    "# Dependencies\n",
    "import pandas as pd"
   ]
  },
  {
   "cell_type": "code",
   "execution_count": 15,
   "metadata": {},
   "outputs": [],
   "source": [
    "# Store filepaths as variables\n",
    "ceo_csv = \"..\\Data\\ceo_data_reduced names.csv\"\n",
    "layoff_csv = \"..\\Data\\layoff.csv\"\n",
    "revenue_csv = \"..\\Data\\Forbes_2000_top_company.csv\""
   ]
  },
  {
   "cell_type": "code",
   "execution_count": 16,
   "metadata": {},
   "outputs": [],
   "source": [
    "# Read our files into dataframes.\n",
    "ceo_df = pd.read_csv(ceo_csv)\n",
    "layoff_df = pd.read_csv(layoff_csv)\n",
    "revenue_df = pd.read_csv(revenue_csv)"
   ]
  },
  {
   "cell_type": "code",
   "execution_count": 17,
   "metadata": {},
   "outputs": [],
   "source": [
    "# Merge csv dataframes on Company Name\n",
    "#merged_df = pd.merge(ceo_df,layoff_df, on =[\"company_name\"],how=\"inner\")\n",
    "merged_df = pd.merge(revenue_df, ceo_df,on=[\"company_name\"],how=\"inner\")\n",
    "#merged_df = pd.merge(merged_df1, layoff_df,on=[\"company_name\"],how=\"inner\")\n",
    "merged_df = merged_df[[\"2022 Ranking\", \"company_name\", \"CEO\", \"salary\", \"median_worker_pay\", \"Total Employees\", \"Year Founded\", \"Revenue (Billions)\", \"Profits (Billions)\", \"Assets (Billions)\", \"Market Value (Billions)\", \"Industry\", \"industry\"]]"
   ]
  },
  {
   "cell_type": "code",
   "execution_count": 18,
   "metadata": {},
   "outputs": [
    {
     "data": {
      "text/plain": [
       "2022 Ranking               0\n",
       "company_name               0\n",
       "CEO                        0\n",
       "salary                     0\n",
       "median_worker_pay          0\n",
       "Total Employees            0\n",
       "Year Founded               0\n",
       "Revenue (Billions)         0\n",
       "Profits (Billions)         0\n",
       "Assets (Billions)          0\n",
       "Market Value (Billions)    0\n",
       "Industry                   0\n",
       "industry                   0\n",
       "dtype: int64"
      ]
     },
     "execution_count": 18,
     "metadata": {},
     "output_type": "execute_result"
    }
   ],
   "source": [
    "# check for nulls\n",
    "merged_df.isnull().sum()\n"
   ]
  },
  {
   "cell_type": "code",
   "execution_count": 19,
   "metadata": {},
   "outputs": [
    {
     "name": "stdout",
     "output_type": "stream",
     "text": [
      "0         633.83\n",
      "1      144657.30\n",
      "2       23151.09\n",
      "3        2136.85\n",
      "4       28873.22\n",
      "         ...    \n",
      "403     21027.02\n",
      "404     47138.39\n",
      "405     15629.11\n",
      "406      8769.01\n",
      "407     23762.57\n",
      "Length: 408, dtype: float64\n"
     ]
    },
    {
     "name": "stderr",
     "output_type": "stream",
     "text": [
      "C:\\Users\\kfbie\\AppData\\Local\\Temp\\ipykernel_31824\\4259457480.py:3: FutureWarning: The default value of regex will change from True to False in a future version. In addition, single character regular expressions will *not* be treated as literal strings when regex=True.\n",
      "  intsalary = merged_df[\"salary\"].str.replace(',', '').str.replace(\"$\", \"\").astype(int)\n",
      "C:\\Users\\kfbie\\AppData\\Local\\Temp\\ipykernel_31824\\4259457480.py:4: FutureWarning: The default value of regex will change from True to False in a future version. In addition, single character regular expressions will *not* be treated as literal strings when regex=True.\n",
      "  intmedianpay = merged_df[\"median_worker_pay\"].str.replace(',', '').str.replace(\"$\", \"\").astype(int)\n"
     ]
    }
   ],
   "source": [
    "# calculate the ratio column again CEO/median :\n",
    "#converting salary and median pay to integers\n",
    "intsalary = merged_df[\"salary\"].str.replace(',', '').str.replace(\"$\", \"\").astype(int)\n",
    "intmedianpay = merged_df[\"median_worker_pay\"].str.replace(',', '').str.replace(\"$\", \"\").astype(int)\n",
    "#calculating and printing ratio\n",
    "paymultiplier = ((intsalary/intmedianpay)*100).round(2)\n",
    "print(paymultiplier)\n",
    "\n",
    "#adding ratio column\n",
    "merged_df[\"CEO Salary to Worker Pay Ratio\"] = paymultiplier\n",
    "\n",
    "#changed the columns to int columns\n",
    "merged_df[\"salary\"] = intsalary\n",
    "merged_df[\"median_worker_pay\"] = intmedianpay\n",
    "\n",
    "#reordering df columns\n",
    "merged_df[[\"2022 Ranking\", \"company_name\", \"CEO\", \"salary\", \"median_worker_pay\", \"CEO Salary to Worker Pay Ratio\", \"Total Employees\", \"Year Founded\", \"Revenue (Billions)\", \"Profits (Billions)\", \"Assets (Billions)\", \"Market Value (Billions)\", \"Industry\", \"industry\"]]\n",
    "\n",
    "#renaming df columns\n",
    "merged_df = merged_df.rename(columns={\"company_name\": \"Company Name\", \"CEO\": \"CEO Name\", \"salary\": \"CEO Salary\", \"median_worker_pay\": \"Median Worker Pay\", \"CEO Salary to Worker Pay Ratio\" : \"CEO Salary to Worker Pay Multiplier\", \"industry\": \"Industry 2\"})\n",
    "\n",
    "\n",
    "#creating output file for easy viewing\n",
    "merged_df.to_csv(\"..\\Data\\merged_df.csv\")"
   ]
  },
  {
   "cell_type": "code",
   "execution_count": 20,
   "metadata": {},
   "outputs": [],
   "source": [
    "# Remove %20 in the industry column\n",
    "merged_df[\"Industry 2\"] = merged_df[\"Industry 2\"].str.replace('%20', ' ')\n",
    "merged_df\n",
    "merged_df.to_csv(\"..\\Data\\merged_df.csv\")"
   ]
  }
 ],
 "metadata": {
  "kernelspec": {
   "display_name": "base",
   "language": "python",
   "name": "python3"
  },
  "language_info": {
   "codemirror_mode": {
    "name": "ipython",
    "version": 3
   },
   "file_extension": ".py",
   "mimetype": "text/x-python",
   "name": "python",
   "nbconvert_exporter": "python",
   "pygments_lexer": "ipython3",
   "version": "3.9.12"
  },
  "orig_nbformat": 4,
  "vscode": {
   "interpreter": {
    "hash": "76cfbac97d6206fd6c610316c3a1d1f017f6bf5147ac1f3f58afecafe14e2ac1"
   }
  }
 },
 "nbformat": 4,
 "nbformat_minor": 2
}
