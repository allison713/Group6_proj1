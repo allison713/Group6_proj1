{
 "cells": [
  {
   "cell_type": "code",
   "execution_count": 12,
   "metadata": {},
   "outputs": [],
   "source": [
    "import numpy as np\n",
    "import pandas as pd\n",
    "import scipy.stats as stats"
   ]
  },
  {
   "cell_type": "code",
   "execution_count": 13,
   "metadata": {},
   "outputs": [],
   "source": [
    "#import the merged df from csv\n",
    "merged_df = pd.read_csv(\"merged_df.csv\")\n",
    "\n",
    "#limit df to just industry and ratio\n",
    "limited_df = merged_df[[\"Industry\",\"Industry 2\",\"CEO Salary to Worker Pay Multiplier\"]]"
   ]
  },
  {
   "cell_type": "code",
   "execution_count": 42,
   "metadata": {},
   "outputs": [
    {
     "ename": "SyntaxError",
     "evalue": "can't assign to literal (141547424.py, line 11)",
     "output_type": "error",
     "traceback": [
      "\u001b[1;36m  File \u001b[1;32m\"C:\\Users\\Allison\\AppData\\Local\\Temp\\ipykernel_20340\\141547424.py\"\u001b[1;36m, line \u001b[1;32m11\u001b[0m\n\u001b[1;33m    f'a{name}' = filtered.loc[(filtered[\"CEO Salary to Worker Pay Multiplier\"]> low) & (filtered[\"CEO Salary to Worker Pay Multiplier\"]< up),:]\u001b[0m\n\u001b[1;37m    ^\u001b[0m\n\u001b[1;31mSyntaxError\u001b[0m\u001b[1;31m:\u001b[0m can't assign to literal\n"
     ]
    }
   ],
   "source": [
    "#Try to find outliers by searching each industry for the IQR and then filtering only the rows that are within 1.5 IQR\n",
    "industries = limited_df[\"Industry\"].unique()\n",
    "\n",
    "for name in industries:\n",
    "    filtered = limited_df.loc[limited_df[\"Industry\"] == name,:]\n",
    "    quartile3 = filtered[\"CEO Salary to Worker Pay Multiplier\"].quantile(q=0.75)\n",
    "    quartile1 = filtered[\"CEO Salary to Worker Pay Multiplier\"].quantile(q=0.25)\n",
    "    iqr = quartile3 - quartile1\n",
    "    up = 1.5 * iqr + quartile3\n",
    "    low = quartile1 - 1.5 * iqr\n",
    "     = filtered.loc[(filtered[\"CEO Salary to Worker Pay Multiplier\"]> low) & (filtered[\"CEO Salary to Worker Pay Multiplier\"]< up),:]\n"
   ]
  },
  {
   "cell_type": "code",
   "execution_count": 33,
   "metadata": {},
   "outputs": [],
   "source": [
    "# Group by Industry. \n",
    "# Find the mean of the Ceo pay ratio per industry\n",
    "grouped = limited_df.groupby(limited_df[\"Industry\"]).mean()[\"CEO Salary to Worker Pay Multiplier\"]"
   ]
  },
  {
   "cell_type": "code",
   "execution_count": 30,
   "metadata": {},
   "outputs": [],
   "source": [
    "#Add Expected values to a column in the grouped_df. \n",
    "#Expected values are if every industry had the same ratio. Used average of the whole table for this value.\n",
    "#This means that the chi square test is checking whether the ceo ratios are close enough to the overall mean.\n",
    "mean = limited_df[\"CEO Salary to Worker Pay Multiplier\"].mean()\n",
    "chi_square_df = pd.DataFrame().assign(Observed = grouped, Expected = mean)"
   ]
  },
  {
   "cell_type": "code",
   "execution_count": 31,
   "metadata": {},
   "outputs": [
    {
     "data": {
      "text/plain": [
       "37.65248413348277"
      ]
     },
     "execution_count": 31,
     "metadata": {},
     "output_type": "execute_result"
    }
   ],
   "source": [
    "#Degrees of freedom = 26-1 = 25\n",
    "#Alpha = 0.05\n",
    "critical_value = stats.chi2.ppf(q = 0.95, df = 25)\n",
    "critical_value"
   ]
  },
  {
   "cell_type": "code",
   "execution_count": 32,
   "metadata": {},
   "outputs": [
    {
     "data": {
      "text/plain": [
       "Power_divergenceResult(statistic=473673.3003436862, pvalue=0.0)"
      ]
     },
     "execution_count": 32,
     "metadata": {},
     "output_type": "execute_result"
    }
   ],
   "source": [
    "# Run the chi square test with stats.chisquare()\n",
    "stats.chisquare(chi_square_df['Observed'], chi_square_df['Expected'])"
   ]
  }
 ],
 "metadata": {
  "kernelspec": {
   "display_name": "PythonData",
   "language": "python",
   "name": "python3"
  },
  "language_info": {
   "codemirror_mode": {
    "name": "ipython",
    "version": 3
   },
   "file_extension": ".py",
   "mimetype": "text/x-python",
   "name": "python",
   "nbconvert_exporter": "python",
   "pygments_lexer": "ipython3",
   "version": "3.7.7"
  },
  "orig_nbformat": 4,
  "vscode": {
   "interpreter": {
    "hash": "ead7f498905789b23feb7f6c7e377b22056b3a0229cf58c9eab4c84e20b8a3fe"
   }
  }
 },
 "nbformat": 4,
 "nbformat_minor": 2
}
